{
 "cells": [
  {
   "cell_type": "code",
   "execution_count": 1,
   "id": "594d4519-8f9a-4d08-a0c0-ffda32af526a",
   "metadata": {},
   "outputs": [],
   "source": [
    "import pandas as pd\n",
    "import numpy as np\n",
    "from sklearn.model_selection import train_test_split\n",
    "from sklearn.feature_extraction.text import TfidfVectorizer\n",
    "from sklearn.linear_model import LogisticRegression, PassiveAggressiveClassifier\n",
    "from sklearn.metrics import accuracy_score, classification_report, confusion_matrix"
   ]
  },
  {
   "cell_type": "code",
   "execution_count": 2,
   "id": "dbef8ea3-2481-420b-874a-749a9805af8b",
   "metadata": {},
   "outputs": [
    {
     "name": "stdout",
     "output_type": "stream",
     "text": [
      "Dataset shape: (38646, 2)\n",
      "                                                text  label\n",
      "0  WASHINGTON (Reuters) - The head of a conservat...      1\n",
      "1  WASHINGTON (Reuters) - Transgender people will...      1\n",
      "2  WASHINGTON (Reuters) - The special counsel inv...      1\n",
      "3  WASHINGTON (Reuters) - Trump campaign adviser ...      1\n",
      "4  SEATTLE/WASHINGTON (Reuters) - President Donal...      1\n"
     ]
    }
   ],
   "source": [
    "data = pd.read_csv(\"cleaned_news.csv\")   # <-- make sure this file is in your Jupyter directory\n",
    "print(\"Dataset shape:\", data.shape)\n",
    "print(data.head())\n"
   ]
  },
  {
   "cell_type": "code",
   "execution_count": 3,
   "id": "89f01a40-5a75-46ff-8e45-21c9a3dbfe54",
   "metadata": {},
   "outputs": [],
   "source": [
    "X = data[\"text\"]\n",
    "y = data[\"label\"]\n",
    "\n",
    "X_train, X_test, y_train, y_test = train_test_split(\n",
    "    X, y, test_size=0.2, random_state=42, stratify=y\n",
    ")"
   ]
  },
  {
   "cell_type": "code",
   "execution_count": 4,
   "id": "6639713a-c546-472c-b4a0-bff75d7da276",
   "metadata": {},
   "outputs": [],
   "source": [
    "vectorizer = TfidfVectorizer(stop_words=\"english\", max_df=0.7)\n",
    "X_train_tfidf = vectorizer.fit_transform(X_train)\n",
    "X_test_tfidf = vectorizer.transform(X_test)"
   ]
  },
  {
   "cell_type": "code",
   "execution_count": 5,
   "id": "d4df935b-c1f1-4c13-9d7a-0084e5ebe5b0",
   "metadata": {},
   "outputs": [],
   "source": [
    "log_model = LogisticRegression(max_iter=1000)\n",
    "log_model.fit(X_train_tfidf, y_train)\n",
    "y_pred_log = log_model.predict(X_test_tfidf)\n"
   ]
  },
  {
   "cell_type": "code",
   "execution_count": 6,
   "id": "d5429e9c-0fba-4ce8-a5d6-0b142fe0b155",
   "metadata": {},
   "outputs": [],
   "source": [
    "pac_model = PassiveAggressiveClassifier(max_iter=50)\n",
    "pac_model.fit(X_train_tfidf, y_train)\n",
    "y_pred_pac = pac_model.predict(X_test_tfidf)"
   ]
  },
  {
   "cell_type": "code",
   "execution_count": 9,
   "id": "c2c93157-1288-4032-9818-b9251a9b180c",
   "metadata": {},
   "outputs": [
    {
     "name": "stdout",
     "output_type": "stream",
     "text": [
      "\n",
      "=== Logistic Regression Performance ===\n",
      "Accuracy: 0.9817593790426908\n",
      "              precision    recall  f1-score   support\n",
      "\n",
      "           0       0.99      0.97      0.98      3491\n",
      "           1       0.97      0.99      0.98      4239\n",
      "\n",
      "    accuracy                           0.98      7730\n",
      "   macro avg       0.98      0.98      0.98      7730\n",
      "weighted avg       0.98      0.98      0.98      7730\n",
      "\n",
      "Confusion Matrix:\n",
      " [[3382  109]\n",
      " [  32 4207]]\n",
      "\n",
      "=== Passive Aggressive Classifier Performance ===\n",
      "Accuracy: 0.9899094437257439\n",
      "              precision    recall  f1-score   support\n",
      "\n",
      "           0       0.99      0.98      0.99      3491\n",
      "           1       0.99      1.00      0.99      4239\n",
      "\n",
      "    accuracy                           0.99      7730\n",
      "   macro avg       0.99      0.99      0.99      7730\n",
      "weighted avg       0.99      0.99      0.99      7730\n",
      "\n",
      "Confusion Matrix:\n",
      " [[3431   60]\n",
      " [  18 4221]]\n"
     ]
    }
   ],
   "source": [
    "print(\"\\n=== Logistic Regression Performance ===\")\n",
    "print(\"Accuracy:\", accuracy_score(y_test, y_pred_log))\n",
    "print(classification_report(y_test, y_pred_log))\n",
    "print(\"Confusion Matrix:\\n\", confusion_matrix(y_test, y_pred_log))\n",
    "\n",
    "print(\"\\n=== Passive Aggressive Classifier Performance ===\")\n",
    "print(\"Accuracy:\", accuracy_score(y_test, y_pred_pac))\n",
    "print(classification_report(y_test, y_pred_pac))\n",
    "print(\"Confusion Matrix:\\n\", confusion_matrix(y_test, y_pred_pac))"
   ]
  },
  {
   "cell_type": "code",
   "execution_count": 8,
   "id": "3ad5e99e-ad06-415d-8a9d-c250d92bed80",
   "metadata": {},
   "outputs": [
    {
     "name": "stdout",
     "output_type": "stream",
     "text": [
      "\n",
      "Sample Predictions (0=Fake, 1=True):\n",
      "[0 0]\n"
     ]
    }
   ],
   "source": [
    "sample_news = [\n",
    "    \"The government has announced a new policy to boost economy.\",\n",
    "    \"Aliens landed in my backyard yesterday night!\"\n",
    "]\n",
    "sample_tfidf = vectorizer.transform(sample_news)\n",
    "\n",
    "print(\"\\nSample Predictions (0=Fake, 1=True):\")\n",
    "print(pac_model.predict(sample_tfidf))"
   ]
  },
  {
   "cell_type": "code",
   "execution_count": null,
   "id": "a961dd5c-0f71-43e9-9089-176a89e1e493",
   "metadata": {},
   "outputs": [],
   "source": []
  }
 ],
 "metadata": {
  "kernelspec": {
   "display_name": "Python 3 (ipykernel)",
   "language": "python",
   "name": "python3"
  },
  "language_info": {
   "codemirror_mode": {
    "name": "ipython",
    "version": 3
   },
   "file_extension": ".py",
   "mimetype": "text/x-python",
   "name": "python",
   "nbconvert_exporter": "python",
   "pygments_lexer": "ipython3",
   "version": "3.13.7"
  }
 },
 "nbformat": 4,
 "nbformat_minor": 5
}
